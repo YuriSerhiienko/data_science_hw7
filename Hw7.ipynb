{
  "nbformat": 4,
  "nbformat_minor": 0,
  "metadata": {
    "colab": {
      "provenance": [],
      "authorship_tag": "ABX9TyPrDIvy0V2bVaFR0jb16Diz",
      "include_colab_link": true
    },
    "kernelspec": {
      "name": "python3",
      "display_name": "Python 3"
    },
    "language_info": {
      "name": "python"
    }
  },
  "cells": [
    {
      "cell_type": "markdown",
      "metadata": {
        "id": "view-in-github",
        "colab_type": "text"
      },
      "source": [
        "<a href=\"https://colab.research.google.com/github/YuriSerhiienko/data_science_hw7/blob/main/Hw7.ipynb\" target=\"_parent\"><img src=\"https://colab.research.google.com/assets/colab-badge.svg\" alt=\"Open In Colab\"/></a>"
      ]
    },
    {
      "cell_type": "code",
      "execution_count": 3,
      "metadata": {
        "colab": {
          "base_uri": "https://localhost:8080/"
        },
        "id": "mYczcy4mYTbp",
        "outputId": "76f27f6f-12f9-484e-af3c-4e09574b3f75"
      },
      "outputs": [
        {
          "output_type": "stream",
          "name": "stdout",
          "text": [
            "Collecting scikit-surprise\n",
            "  Downloading scikit-surprise-1.1.3.tar.gz (771 kB)\n",
            "\u001b[2K     \u001b[90m━━━━━━━━━━━━━━━━━━━━━━━━━━━━━━━━━━━━━━━━\u001b[0m \u001b[32m772.0/772.0 kB\u001b[0m \u001b[31m7.5 MB/s\u001b[0m eta \u001b[36m0:00:00\u001b[0m\n",
            "\u001b[?25h  Preparing metadata (setup.py) ... \u001b[?25l\u001b[?25hdone\n",
            "Requirement already satisfied: joblib>=1.0.0 in /usr/local/lib/python3.10/dist-packages (from scikit-surprise) (1.3.2)\n",
            "Requirement already satisfied: numpy>=1.17.3 in /usr/local/lib/python3.10/dist-packages (from scikit-surprise) (1.23.5)\n",
            "Requirement already satisfied: scipy>=1.3.2 in /usr/local/lib/python3.10/dist-packages (from scikit-surprise) (1.11.4)\n",
            "Building wheels for collected packages: scikit-surprise\n",
            "  Building wheel for scikit-surprise (setup.py) ... \u001b[?25l\u001b[?25hdone\n",
            "  Created wheel for scikit-surprise: filename=scikit_surprise-1.1.3-cp310-cp310-linux_x86_64.whl size=3163755 sha256=6c6e56d15731f1a2b5f5121075bbfdbee85eb8de9451b64cc596241b4f131b8e\n",
            "  Stored in directory: /root/.cache/pip/wheels/a5/ca/a8/4e28def53797fdc4363ca4af740db15a9c2f1595ebc51fb445\n",
            "Successfully built scikit-surprise\n",
            "Installing collected packages: scikit-surprise\n",
            "Successfully installed scikit-surprise-1.1.3\n"
          ]
        }
      ],
      "source": [
        "pip install scikit-surprise"
      ]
    },
    {
      "cell_type": "code",
      "source": [
        "from surprise import Dataset, Reader\n",
        "from surprise.model_selection import cross_validate, GridSearchCV\n",
        "\n",
        "# Завантаження датасету MovieLens\n",
        "data = Dataset.load_builtin('ml-100k')"
      ],
      "metadata": {
        "colab": {
          "base_uri": "https://localhost:8080/"
        },
        "id": "tYcO1rLkf5Nq",
        "outputId": "a597f53e-0160-4382-f0df-2f8c53fe554a"
      },
      "execution_count": 4,
      "outputs": [
        {
          "output_type": "stream",
          "name": "stdout",
          "text": [
            "Dataset ml-100k could not be found. Do you want to download it? [Y/n] Y\n",
            "Trying to download dataset from https://files.grouplens.org/datasets/movielens/ml-100k.zip...\n",
            "Done! Dataset ml-100k has been saved to /root/.surprise_data/ml-100k\n"
          ]
        }
      ]
    },
    {
      "cell_type": "code",
      "source": [
        "from surprise import SVD\n",
        "\n",
        "# Визначення моделі SVD\n",
        "model = SVD()\n",
        "\n",
        "# Проведення крос-валідації\n",
        "cross_validate(model, data, measures=['RMSE', 'MAE'], cv=5, verbose=True)"
      ],
      "metadata": {
        "colab": {
          "base_uri": "https://localhost:8080/"
        },
        "id": "0OEQHZRTgyhB",
        "outputId": "a2bc8fd1-8189-438d-af47-4a4131c34ab5"
      },
      "execution_count": 5,
      "outputs": [
        {
          "output_type": "stream",
          "name": "stdout",
          "text": [
            "Evaluating RMSE, MAE of algorithm SVD on 5 split(s).\n",
            "\n",
            "                  Fold 1  Fold 2  Fold 3  Fold 4  Fold 5  Mean    Std     \n",
            "RMSE (testset)    0.9375  0.9351  0.9389  0.9292  0.9334  0.9348  0.0034  \n",
            "MAE (testset)     0.7382  0.7393  0.7380  0.7346  0.7365  0.7373  0.0016  \n",
            "Fit time          1.71    1.77    2.08    2.28    1.76    1.92    0.22    \n",
            "Test time         0.15    0.27    0.23    0.17    0.26    0.22    0.05    \n"
          ]
        },
        {
          "output_type": "execute_result",
          "data": {
            "text/plain": [
              "{'test_rmse': array([0.93750111, 0.9350906 , 0.93886348, 0.92923894, 0.93343827]),\n",
              " 'test_mae': array([0.73815011, 0.73926549, 0.7380471 , 0.73458135, 0.73649473]),\n",
              " 'fit_time': (1.7074768543243408,\n",
              "  1.7680385112762451,\n",
              "  2.0768849849700928,\n",
              "  2.278322219848633,\n",
              "  1.7618093490600586),\n",
              " 'test_time': (0.14700818061828613,\n",
              "  0.26531124114990234,\n",
              "  0.2319023609161377,\n",
              "  0.174851655960083,\n",
              "  0.2617051601409912)}"
            ]
          },
          "metadata": {},
          "execution_count": 5
        }
      ]
    },
    {
      "cell_type": "code",
      "source": [
        "# Параметри для підбору\n",
        "param_grid = {\n",
        "    'n_factors': [50, 100, 150],\n",
        "    'n_epochs': [20, 30],\n",
        "    'lr_all': [0.005, 0.01],\n",
        "    'reg_all': [0.02, 0.1]\n",
        "}\n",
        "\n",
        "# Виконання пошуку з GridSearchCV\n",
        "gs = GridSearchCV(SVD, param_grid, measures=['RMSE', 'MAE'], cv=3)\n",
        "gs.fit(data)\n",
        "\n",
        "# Виведення найкращих параметрів\n",
        "print(gs.best_score['rmse'])\n",
        "print(gs.best_params['rmse'])"
      ],
      "metadata": {
        "colab": {
          "base_uri": "https://localhost:8080/"
        },
        "id": "J0DgIitPjVpn",
        "outputId": "6cbe5668-c1f6-4642-b88a-85ffa9bf053f"
      },
      "execution_count": 6,
      "outputs": [
        {
          "output_type": "stream",
          "name": "stdout",
          "text": [
            "0.9211792448958461\n",
            "{'n_factors': 150, 'n_epochs': 30, 'lr_all': 0.01, 'reg_all': 0.1}\n"
          ]
        }
      ]
    },
    {
      "cell_type": "code",
      "source": [
        "# Визначення моделі SVD з оптимальними параметрами\n",
        "optimal_model = SVD(n_factors=150, n_epochs=30, lr_all=0.01, reg_all=0.1)\n",
        "\n",
        "# Навчання моделі\n",
        "cross_validate(optimal_model, data, measures=['RMSE', 'MAE'], cv=5, verbose=True)"
      ],
      "metadata": {
        "colab": {
          "base_uri": "https://localhost:8080/"
        },
        "id": "ZqM9Lf7dlVU2",
        "outputId": "c4bdca90-46b5-430f-bdde-128f302169ad"
      },
      "execution_count": 7,
      "outputs": [
        {
          "output_type": "stream",
          "name": "stdout",
          "text": [
            "Evaluating RMSE, MAE of algorithm SVD on 5 split(s).\n",
            "\n",
            "                  Fold 1  Fold 2  Fold 3  Fold 4  Fold 5  Mean    Std     \n",
            "RMSE (testset)    0.9136  0.9173  0.9155  0.9038  0.9141  0.9129  0.0047  \n",
            "MAE (testset)     0.7234  0.7253  0.7233  0.7159  0.7227  0.7221  0.0032  \n",
            "Fit time          4.39    3.19    3.21    4.32    5.13    4.05    0.75    \n",
            "Test time         0.16    0.27    0.16    0.43    0.15    0.23    0.11    \n"
          ]
        },
        {
          "output_type": "execute_result",
          "data": {
            "text/plain": [
              "{'test_rmse': array([0.91363534, 0.91727265, 0.91552816, 0.90377118, 0.91408613]),\n",
              " 'test_mae': array([0.72337778, 0.72534771, 0.72332192, 0.71587597, 0.72270328]),\n",
              " 'fit_time': (4.3851096630096436,\n",
              "  3.1854538917541504,\n",
              "  3.2130417823791504,\n",
              "  4.316311836242676,\n",
              "  5.1308393478393555),\n",
              " 'test_time': (0.16025471687316895,\n",
              "  0.27374768257141113,\n",
              "  0.1568152904510498,\n",
              "  0.4316444396972656,\n",
              "  0.1496293544769287)}"
            ]
          },
          "metadata": {},
          "execution_count": 7
        }
      ]
    },
    {
      "cell_type": "markdown",
      "source": [
        "# **Додаткове завдання з зірочкою**"
      ],
      "metadata": {
        "id": "5k-jpInjqcQW"
      }
    },
    {
      "cell_type": "code",
      "source": [
        "!gdown 12XeO4KXQfbvvTdLFbkYA-BeXzhlNnnuo -O movie_ids.txt\n",
        "!gdown 17V9OhXeZH9Wv17Nkh-Tqxa8svEmRZcIp -O movies.mat"
      ],
      "metadata": {
        "colab": {
          "base_uri": "https://localhost:8080/"
        },
        "id": "0iHDq-foqeoE",
        "outputId": "0b1d4b4d-78fc-48ea-dbf8-e440ff710489"
      },
      "execution_count": 8,
      "outputs": [
        {
          "output_type": "stream",
          "name": "stdout",
          "text": [
            "/usr/local/lib/python3.10/dist-packages/gdown/cli.py:121: FutureWarning: Option `--id` was deprecated in version 4.3.1 and will be removed in 5.0. You don't need to pass it anymore to use a file ID.\n",
            "  warnings.warn(\n",
            "Downloading...\n",
            "From: https://drive.google.com/uc?id=12XeO4KXQfbvvTdLFbkYA-BeXzhlNnnuo\n",
            "To: /content/movie_ids.txt\n",
            "100% 48.4k/48.4k [00:00<00:00, 41.0MB/s]\n",
            "/usr/local/lib/python3.10/dist-packages/gdown/cli.py:121: FutureWarning: Option `--id` was deprecated in version 4.3.1 and will be removed in 5.0. You don't need to pass it anymore to use a file ID.\n",
            "  warnings.warn(\n",
            "Downloading...\n",
            "From: https://drive.google.com/uc?id=17V9OhXeZH9Wv17Nkh-Tqxa8svEmRZcIp\n",
            "To: /content/movies.mat\n",
            "100% 223k/223k [00:00<00:00, 95.6MB/s]\n"
          ]
        }
      ]
    },
    {
      "cell_type": "code",
      "source": [
        "import numpy as np\n",
        "from scipy.io import loadmat\n",
        "\n",
        "# Завантаження даних\n",
        "data = loadmat('movies.mat')\n",
        "Y, R = data['Y'], data['R']\n",
        "num_movies, num_users = Y.shape\n",
        "num_features = 10\n",
        "\n",
        "# Ініціалізація параметрів X та W\n",
        "X = np.random.rand(num_movies, num_features)\n",
        "W = np.random.rand(num_users, num_features)\n",
        "\n",
        "# Розгортання параметрів в один вектор\n",
        "params = np.concatenate([X.ravel(), W.ravel()])\n",
        "\n",
        "params.shape"
      ],
      "metadata": {
        "colab": {
          "base_uri": "https://localhost:8080/"
        },
        "id": "a-TCLWJVq1yj",
        "outputId": "b0cdcbe2-dca8-4a3e-e60b-fed4131c1824"
      },
      "execution_count": 9,
      "outputs": [
        {
          "output_type": "execute_result",
          "data": {
            "text/plain": [
              "(26250,)"
            ]
          },
          "metadata": {},
          "execution_count": 9
        }
      ]
    },
    {
      "cell_type": "code",
      "source": [
        "def compute_cost(params, Y, R, num_users, num_movies, num_features, lambda_):\n",
        "    # Відновлення матриць X та W із вектора параметрів\n",
        "    X = params[:num_movies*num_features].reshape(num_movies, num_features)\n",
        "    W = params[num_movies*num_features:].reshape(num_users, num_features)\n",
        "\n",
        "    # Розрахунок передбачень та помилок тільки для оцінених фільмів\n",
        "    predictions = X.dot(W.T)\n",
        "    errors = (predictions - Y) * R  # Використовуємо R для ігнорування неоцінених фільмів\n",
        "    squared_errors = errors**2\n",
        "\n",
        "    # Розрахунок втрат (без регуляризації)\n",
        "    J = 0.5 * np.sum(squared_errors)\n",
        "\n",
        "    # Розрахунок градієнтів (без регуляризації)\n",
        "    X_grad = errors.dot(W)\n",
        "    W_grad = errors.T.dot(X)\n",
        "\n",
        "    # Об'єднання градієнтів в один вектор\n",
        "    grad = np.concatenate((X_grad.ravel(), W_grad.ravel()))\n",
        "\n",
        "    return J, grad\n",
        "\n",
        "# Тестуємо функцію обчислення втрат на ініціалізованих параметрах (без регуляризації)\n",
        "J, grad = compute_cost(params, Y, R, num_users, num_movies, num_features, 0)\n",
        "print(f'Cost at loaded parameters: {J}')"
      ],
      "metadata": {
        "colab": {
          "base_uri": "https://localhost:8080/"
        },
        "id": "VInPSmrlrSaW",
        "outputId": "ac097816-df74-47ba-9a1c-42658f8ac794"
      },
      "execution_count": 10,
      "outputs": [
        {
          "output_type": "stream",
          "name": "stdout",
          "text": [
            "Cost at loaded parameters: 141093.4003796438\n"
          ]
        }
      ]
    },
    {
      "cell_type": "code",
      "source": [
        "def compute_regularized_cost(params, Y, R, num_users, num_movies, num_features, lambda_):\n",
        "    # Відновлення матриць X та W із вектора параметрів\n",
        "    X = params[:num_movies*num_features].reshape(num_movies, num_features)\n",
        "    W = params[num_movies*num_features:].reshape(num_users, num_features)\n",
        "\n",
        "    # Розрахунок передбачень та помилок тільки для оцінених фільмів\n",
        "    predictions = X.dot(W.T)\n",
        "    errors = (predictions - Y) * R  # Використовуємо R для ігнорування неоцінених фільмів\n",
        "    squared_errors = errors**2\n",
        "\n",
        "    # Розрахунок втрат з регуляризацією\n",
        "    cost = 0.5 * np.sum(squared_errors)\n",
        "    cost += (lambda_/2) * (np.sum(X**2) + np.sum(W**2))\n",
        "\n",
        "    # Розрахунок градієнтів з регуляризацією\n",
        "    X_grad = errors.dot(W) + lambda_ * X\n",
        "    W_grad = errors.T.dot(X) + lambda_ * W\n",
        "\n",
        "    # Об'єднання градієнтів в один вектор\n",
        "    grad = np.concatenate((X_grad.ravel(), W_grad.ravel()))\n",
        "\n",
        "    return cost, grad\n",
        "\n",
        "# Обчислення втрат з регуляризацією\n",
        "J_reg, grad_reg = compute_regularized_cost(params, Y, R, num_users, num_movies, num_features, lambda_=10)\n",
        "print(f'Regularized cost at loaded parameters: {J_reg}')"
      ],
      "metadata": {
        "colab": {
          "base_uri": "https://localhost:8080/"
        },
        "id": "FiCirYxlrn-9",
        "outputId": "16c9552a-8dab-4042-a224-579c2043cdae"
      },
      "execution_count": 11,
      "outputs": [
        {
          "output_type": "stream",
          "name": "stdout",
          "text": [
            "Regularized cost at loaded parameters: 184819.4308825596\n"
          ]
        }
      ]
    },
    {
      "cell_type": "code",
      "source": [
        "from scipy.optimize import minimize\n",
        "\n",
        "# Встановлюємо параметр регуляризації\n",
        "lambda_ = 10\n",
        "\n",
        "# Функція для оптимізації\n",
        "def optimize_params(initial_params, Y, R, num_users, num_movies, num_features, lambda_, maxiter=100):\n",
        "    # Оптимізація параметрів за допомогою minimize\n",
        "    res = minimize(\n",
        "        fun=compute_regularized_cost,\n",
        "        x0=initial_params,\n",
        "        args=(Y, R, num_users, num_movies, num_features, lambda_),\n",
        "        method='TNC',\n",
        "        jac=True,\n",
        "        options={'maxiter': maxiter}\n",
        "    )\n",
        "    return res\n",
        "\n",
        "# Проводимо оптимізацію\n",
        "result = optimize_params(params, Y, R, num_users, num_movies, num_features, lambda_)\n",
        "\n",
        "# Відновлюємо оптимізовані параметри X та W\n",
        "X_opt = result.x[:num_movies * num_features].reshape(num_movies, num_features)\n",
        "W_opt = result.x[num_movies * num_features:].reshape(num_users, num_features)\n",
        "\n",
        "# Виводимо значення оптимізованої вартості\n",
        "opt_cost = result.fun\n",
        "\n",
        "opt_cost, result.success, result.message"
      ],
      "metadata": {
        "colab": {
          "base_uri": "https://localhost:8080/"
        },
        "id": "evzaoz0rr6vm",
        "outputId": "423ba533-d048-4b3f-e139-8bf3b5c97a85"
      },
      "execution_count": 12,
      "outputs": [
        {
          "output_type": "stream",
          "name": "stderr",
          "text": [
            "<ipython-input-12-94e53f411042>:9: OptimizeWarning: Unknown solver options: maxiter\n",
            "  res = minimize(\n"
          ]
        },
        {
          "output_type": "execute_result",
          "data": {
            "text/plain": [
              "(71873.41373852442, True, 'Converged (|f_n-f_(n-1)| ~= 0)')"
            ]
          },
          "metadata": {},
          "execution_count": 12
        }
      ]
    },
    {
      "cell_type": "code",
      "source": [
        "# Зчитування назв фільмів з файлу 'movie_ids.txt'\n",
        "def load_movie_list(filepath):\n",
        "    movie_list = []\n",
        "    with open(filepath, 'r', encoding='ISO-8859-1') as f:\n",
        "        for line in f:\n",
        "            # Розділяємо кожен рядок на ID фільму та його назву\n",
        "            id, name = line.strip().split(' ', 1)\n",
        "            movie_list.append(name)\n",
        "    return movie_list\n",
        "\n",
        "# Завантаження назв фільмів\n",
        "movie_list = load_movie_list('/content/movie_ids.txt')\n",
        "\n",
        "print(f'First 5 movies in the list: {movie_list[:5]}')"
      ],
      "metadata": {
        "colab": {
          "base_uri": "https://localhost:8080/"
        },
        "id": "1GZ5jvl7s4J2",
        "outputId": "01fda78e-4c31-490a-8657-d49ca22b46f8"
      },
      "execution_count": 14,
      "outputs": [
        {
          "output_type": "stream",
          "name": "stdout",
          "text": [
            "First 5 movies in the list: ['Toy Story (1995)', 'GoldenEye (1995)', 'Four Rooms (1995)', 'Get Shorty (1995)', 'Copycat (1995)']\n"
          ]
        }
      ]
    },
    {
      "cell_type": "code",
      "source": [
        "# Використовуємо навчені параметри для обчислення матриці прогнозованих рейтингів\n",
        "predicted_ratings = X_opt.dot(W_opt.T)\n",
        "\n",
        "# Відбираємо рейтинги для конкретного користувача (наприклад, користувача з ID 0)\n",
        "user_ratings = predicted_ratings[:, 0]\n",
        "\n",
        "# Фільтруємо тільки фільми, які цей користувач ще не оцінив\n",
        "user_unrated_movies = np.where(R[:, 0] == 0)[0]\n",
        "user_predicted_ratings = user_ratings[user_unrated_movies]\n",
        "\n",
        "# Сортуємо непереглянуті фільми на основі прогнозованих рейтингів\n",
        "sorted_movie_indices = user_unrated_movies[np.argsort(-user_predicted_ratings)]\n",
        "\n",
        "# Виводимо ТОП-10 рекомендованих фільмів для цього користувача\n",
        "recommended_movie_names = [movie_list[i] for i in sorted_movie_indices[:10]]\n",
        "recommended_movie_names"
      ],
      "metadata": {
        "colab": {
          "base_uri": "https://localhost:8080/"
        },
        "id": "JnAXkWFTskzX",
        "outputId": "93e08c82-f510-4e65-fe3f-f66a72c6913c"
      },
      "execution_count": 15,
      "outputs": [
        {
          "output_type": "execute_result",
          "data": {
            "text/plain": [
              "['Close Shave, A (1995)',\n",
              " 'Secrets & Lies (1996)',\n",
              " 'Lawrence of Arabia (1962)',\n",
              " 'Leaving Las Vegas (1995)',\n",
              " 'L.A. Confidential (1997)',\n",
              " 'Dr. Strangelove or: How I Learned to Stop Worrying and Love the Bomb (1963)',\n",
              " 'Casablanca (1942)',\n",
              " 'Apt Pupil (1998)',\n",
              " 'Chinatown (1974)',\n",
              " 'Trainspotting (1996)']"
            ]
          },
          "metadata": {},
          "execution_count": 15
        }
      ]
    }
  ]
}